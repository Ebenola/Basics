{
 "cells": [
  {
   "cell_type": "code",
   "execution_count": 1,
   "id": "88e1b2fa",
   "metadata": {},
   "outputs": [
    {
     "name": "stdout",
     "output_type": "stream",
     "text": [
      "Hurray\n"
     ]
    }
   ],
   "source": [
    "if 5 == 5*1:\n",
    "    print ('Hurray')"
   ]
  },
  {
   "cell_type": "code",
   "execution_count": 2,
   "id": "20b4e468",
   "metadata": {},
   "outputs": [
    {
     "name": "stdout",
     "output_type": "stream",
     "text": [
      "True\n"
     ]
    }
   ],
   "source": [
    "if 5 == 5:\n",
    "    print ('True')\n",
    "else:\n",
    "    print('False')"
   ]
  },
  {
   "cell_type": "code",
   "execution_count": 3,
   "id": "e65738f3",
   "metadata": {},
   "outputs": [],
   "source": [
    "def number(x):\n",
    "    if x > 5:\n",
    "        return ('Greater')\n",
    "    elif x < 5:\n",
    "        return ('Less than')\n",
    "    else:\n",
    "        return ('equal')\n",
    "    "
   ]
  },
  {
   "cell_type": "code",
   "execution_count": 4,
   "id": "62b8a7e7",
   "metadata": {},
   "outputs": [
    {
     "data": {
      "text/plain": [
       "'Greater'"
      ]
     },
     "execution_count": 4,
     "metadata": {},
     "output_type": "execute_result"
    }
   ],
   "source": [
    "number(8)"
   ]
  },
  {
   "cell_type": "code",
   "execution_count": 5,
   "id": "fde57bc5",
   "metadata": {},
   "outputs": [],
   "source": [
    "def addition_of_ten(a):\n",
    "    print ('Output')\n",
    "    return a + 10"
   ]
  },
  {
   "cell_type": "code",
   "execution_count": 6,
   "id": "2eb5cde9",
   "metadata": {},
   "outputs": [
    {
     "name": "stdout",
     "output_type": "stream",
     "text": [
      "Output\n"
     ]
    },
    {
     "data": {
      "text/plain": [
       "30"
      ]
     },
     "execution_count": 6,
     "metadata": {},
     "output_type": "execute_result"
    }
   ],
   "source": [
    "addition_of_ten(20)"
   ]
  },
  {
   "cell_type": "code",
   "execution_count": 8,
   "id": "a8ab8af9",
   "metadata": {},
   "outputs": [],
   "source": [
    "# Function in a function to define $25 per hour wages and additional $50 bonus\n",
    "def wage(w_hours):\n",
    "    return w_hours * 25\n",
    "def with_bonus(w_hours):\n",
    "    return wage(w_hours) + 50"
   ]
  },
  {
   "cell_type": "code",
   "execution_count": 9,
   "id": "75d96f45",
   "metadata": {},
   "outputs": [
    {
     "data": {
      "text/plain": [
       "(200, 250)"
      ]
     },
     "execution_count": 9,
     "metadata": {},
     "output_type": "execute_result"
    }
   ],
   "source": [
    "# Below is the output for an employee that worked for 8 hours\n",
    "wage(8), with_bonus(8)"
   ]
  },
  {
   "cell_type": "code",
   "execution_count": 10,
   "id": "86cae4da",
   "metadata": {},
   "outputs": [],
   "source": [
    "# If Johny saved at least $100 by the end of the week, he will get additional $10, else no extra cash\n",
    "def add_10(m):\n",
    "    if m >= 100:\n",
    "        m = m + 10\n",
    "        return m\n",
    "    else:\n",
    "        return ('Save more!')"
   ]
  },
  {
   "cell_type": "code",
   "execution_count": 11,
   "id": "8e5f8938",
   "metadata": {},
   "outputs": [
    {
     "data": {
      "text/plain": [
       "130"
      ]
     },
     "execution_count": 11,
     "metadata": {},
     "output_type": "execute_result"
    }
   ],
   "source": [
    "add_10(120)"
   ]
  },
  {
   "cell_type": "code",
   "execution_count": 12,
   "id": "7424160e",
   "metadata": {},
   "outputs": [
    {
     "data": {
      "text/plain": [
       "'Save more!'"
      ]
     },
     "execution_count": 12,
     "metadata": {},
     "output_type": "execute_result"
    }
   ],
   "source": [
    "add_10(70)"
   ]
  },
  {
   "cell_type": "code",
   "execution_count": 13,
   "id": "c8a21a17",
   "metadata": {},
   "outputs": [],
   "source": [
    "def substract_no(a,b,c):\n",
    "    result = a * b -c\n",
    "    print('Parameter a equals ', a)\n",
    "    print('Parameter b equals ', b)\n",
    "    print('Parameter c equals ', c)\n",
    "    return result"
   ]
  },
  {
   "cell_type": "code",
   "execution_count": 14,
   "id": "15693d85",
   "metadata": {},
   "outputs": [
    {
     "name": "stdout",
     "output_type": "stream",
     "text": [
      "Parameter a equals  5\n",
      "Parameter b equals  6\n",
      "Parameter c equals  7\n"
     ]
    },
    {
     "data": {
      "text/plain": [
       "23"
      ]
     },
     "execution_count": 14,
     "metadata": {},
     "output_type": "execute_result"
    }
   ],
   "source": [
    "substract_no(5,6,7)"
   ]
  },
  {
   "cell_type": "code",
   "execution_count": 15,
   "id": "b5342fa8",
   "metadata": {},
   "outputs": [],
   "source": [
    "#List function\n",
    "Participants = ['Paul', 'Ade', 'Shade', 'Kunle']"
   ]
  },
  {
   "cell_type": "code",
   "execution_count": 16,
   "id": "a01ac20e",
   "metadata": {},
   "outputs": [],
   "source": [
    "Participants[0] = 'Gab'"
   ]
  },
  {
   "cell_type": "code",
   "execution_count": 17,
   "id": "f2d04f9b",
   "metadata": {},
   "outputs": [
    {
     "data": {
      "text/plain": [
       "['Gab', 'Ade', 'Shade', 'Kunle']"
      ]
     },
     "execution_count": 17,
     "metadata": {},
     "output_type": "execute_result"
    }
   ],
   "source": [
    "Participants"
   ]
  },
  {
   "cell_type": "code",
   "execution_count": 18,
   "id": "618b2912",
   "metadata": {},
   "outputs": [
    {
     "data": {
      "text/plain": [
       "'Kunle'"
      ]
     },
     "execution_count": 18,
     "metadata": {},
     "output_type": "execute_result"
    }
   ],
   "source": [
    "Participants[-1]"
   ]
  },
  {
   "cell_type": "code",
   "execution_count": 19,
   "id": "a8c3ea51",
   "metadata": {},
   "outputs": [
    {
     "data": {
      "text/plain": [
       "['Gab', 'Shade', 'Kunle']"
      ]
     },
     "execution_count": 19,
     "metadata": {},
     "output_type": "execute_result"
    }
   ],
   "source": [
    "del Participants[1]\n",
    "Participants"
   ]
  },
  {
   "cell_type": "code",
   "execution_count": 20,
   "id": "e2fd9b6e",
   "metadata": {},
   "outputs": [
    {
     "data": {
      "text/plain": [
       "['Gab', 'Shade', 'Kunle', 'Dwayne']"
      ]
     },
     "execution_count": 20,
     "metadata": {},
     "output_type": "execute_result"
    }
   ],
   "source": [
    "# Using methods function to modify list\n",
    "Participants.append(\"Dwayne\")\n",
    "Participants"
   ]
  },
  {
   "cell_type": "code",
   "execution_count": 21,
   "id": "2a909bc3",
   "metadata": {},
   "outputs": [
    {
     "data": {
      "text/plain": [
       "['Gab', 'Shade', 'Kunle', 'Dwayne', 'Christianah', 'Johnson']"
      ]
     },
     "execution_count": 21,
     "metadata": {},
     "output_type": "execute_result"
    }
   ],
   "source": [
    "# Using extend function to modify list\n",
    "Participants.extend([\"Christianah\", \"Johnson\"])\n",
    "Participants"
   ]
  },
  {
   "cell_type": "code",
   "execution_count": 22,
   "id": "1286c583",
   "metadata": {},
   "outputs": [
    {
     "data": {
      "text/plain": [
       "['Gab', 'Shade', 'Kunle', 'Dwayne', 'Christianah', 'Johnson']"
      ]
     },
     "execution_count": 22,
     "metadata": {},
     "output_type": "execute_result"
    }
   ],
   "source": [
    "del Participants[6:12]\n",
    "Participants"
   ]
  },
  {
   "cell_type": "code",
   "execution_count": 23,
   "id": "bff3151c",
   "metadata": {},
   "outputs": [
    {
     "name": "stdout",
     "output_type": "stream",
     "text": [
      "The first participant is Gab.\n"
     ]
    }
   ],
   "source": [
    "#Using list in a print returns a string\n",
    "print('The first participant is ' + Participants[0]+'.')"
   ]
  },
  {
   "cell_type": "code",
   "execution_count": 24,
   "id": "9b6dd264",
   "metadata": {},
   "outputs": [
    {
     "data": {
      "text/plain": [
       "6"
      ]
     },
     "execution_count": 24,
     "metadata": {},
     "output_type": "execute_result"
    }
   ],
   "source": [
    "# Use len function to know the number of inputs in a list\n",
    "len(Participants)"
   ]
  },
  {
   "cell_type": "code",
   "execution_count": 25,
   "id": "3955b058",
   "metadata": {},
   "outputs": [
    {
     "data": {
      "text/plain": [
       "['Shade', 'Kunle']"
      ]
     },
     "execution_count": 25,
     "metadata": {},
     "output_type": "execute_result"
    }
   ],
   "source": [
    "# Slicing can be used to obtain a tiny portion of a list\n",
    "Participants[1:3]"
   ]
  },
  {
   "cell_type": "code",
   "execution_count": 26,
   "id": "d776e197",
   "metadata": {},
   "outputs": [
    {
     "data": {
      "text/plain": [
       "0"
      ]
     },
     "execution_count": 26,
     "metadata": {},
     "output_type": "execute_result"
    }
   ],
   "source": [
    "# index method is used to know the position on a list\n",
    "Participants.index('Gab')"
   ]
  },
  {
   "cell_type": "code",
   "execution_count": 27,
   "id": "5e881e88",
   "metadata": {},
   "outputs": [
    {
     "data": {
      "text/plain": [
       "(['Gab', 'Shade', 'Kunle', 'Dwayne', 'Christianah', 'Johnson'],\n",
       " ['John', 'Mathew'])"
      ]
     },
     "execution_count": 27,
     "metadata": {},
     "output_type": "execute_result"
    }
   ],
   "source": [
    "# Creating a list of a list\n",
    "New_comers = ['John', 'Mathew']\n",
    "Bigger_list = Participants, New_comers\n",
    "Bigger_list"
   ]
  },
  {
   "cell_type": "code",
   "execution_count": 28,
   "id": "01e1b4e4",
   "metadata": {},
   "outputs": [
    {
     "data": {
      "text/plain": [
       "['Christianah', 'Dwayne', 'Gab', 'Johnson', 'Kunle', 'Shade']"
      ]
     },
     "execution_count": 28,
     "metadata": {},
     "output_type": "execute_result"
    }
   ],
   "source": [
    "# Use sort to arrange list in alphabetical, ascending or descending\n",
    "Participants.sort()\n",
    "Participants"
   ]
  },
  {
   "cell_type": "code",
   "execution_count": 29,
   "id": "2c346b32",
   "metadata": {},
   "outputs": [
    {
     "data": {
      "text/plain": [
       "[1, 5, 7, 8, 9]"
      ]
     },
     "execution_count": 29,
     "metadata": {},
     "output_type": "execute_result"
    }
   ],
   "source": [
    "numbers = [1,5,7,8,9]\n",
    "numbers.sort()\n",
    "numbers"
   ]
  },
  {
   "cell_type": "code",
   "execution_count": 30,
   "id": "d1f4d48c",
   "metadata": {},
   "outputs": [
    {
     "data": {
      "text/plain": [
       "[9, 8, 7, 5, 1]"
      ]
     },
     "execution_count": 30,
     "metadata": {},
     "output_type": "execute_result"
    }
   ],
   "source": [
    "# To sort in descending order\n",
    "numbers.sort(reverse=True)\n",
    "numbers"
   ]
  },
  {
   "cell_type": "code",
   "execution_count": 31,
   "id": "6a679f9f",
   "metadata": {},
   "outputs": [
    {
     "data": {
      "text/plain": [
       "(4, 5, 7)"
      ]
     },
     "execution_count": 31,
     "metadata": {},
     "output_type": "execute_result"
    }
   ],
   "source": [
    "# Tuples are a type of data sequence that are immutable: cannot be changed or modified. Cannot be appended or deleted\n",
    "# Tuples are placed in parenthesis () and not brackets []\n",
    "x = (4,5,7)\n",
    "x"
   ]
  },
  {
   "cell_type": "code",
   "execution_count": 32,
   "id": "3a717b34",
   "metadata": {},
   "outputs": [
    {
     "data": {
      "text/plain": [
       "7"
      ]
     },
     "execution_count": 32,
     "metadata": {},
     "output_type": "execute_result"
    }
   ],
   "source": [
    "a,b,c = 4,7,9\n",
    "b"
   ]
  },
  {
   "cell_type": "code",
   "execution_count": 33,
   "id": "be670211",
   "metadata": {},
   "outputs": [
    {
     "data": {
      "text/plain": [
       "[(4, 5, 7), 4, 7, 9]"
      ]
     },
     "execution_count": 33,
     "metadata": {},
     "output_type": "execute_result"
    }
   ],
   "source": [
    "# Tuples can be placed in a list\n",
    "z =[x,a,b,c]\n",
    "z"
   ]
  },
  {
   "cell_type": "code",
   "execution_count": 34,
   "id": "3a3703bc",
   "metadata": {},
   "outputs": [
    {
     "name": "stdout",
     "output_type": "stream",
     "text": [
      "25\n",
      "4\n"
     ]
    }
   ],
   "source": [
    "(age, years_of_school) = \"25,4\".split(',')\n",
    "print(age)\n",
    "print(years_of_school)"
   ]
  },
  {
   "cell_type": "code",
   "execution_count": 35,
   "id": "a65dee07",
   "metadata": {},
   "outputs": [
    {
     "data": {
      "text/plain": [
       "{'A1': 'Cat', 'A2': 'Dog', 'A3': 'Mouse'}"
      ]
     },
     "execution_count": 35,
     "metadata": {},
     "output_type": "execute_result"
    }
   ],
   "source": [
    "# Curly braces{} are used when setting up dictionary (dict) in Python\n",
    "dict = {'A1':\"Cat\", 'A2' : \"Dog\", 'A3':\"Mouse\"}\n",
    "dict"
   ]
  },
  {
   "cell_type": "code",
   "execution_count": 36,
   "id": "650d5cfd",
   "metadata": {},
   "outputs": [
    {
     "data": {
      "text/plain": [
       "'Cat'"
      ]
     },
     "execution_count": 36,
     "metadata": {},
     "output_type": "execute_result"
    }
   ],
   "source": [
    "dict['A1']"
   ]
  },
  {
   "cell_type": "code",
   "execution_count": 37,
   "id": "387a21d7",
   "metadata": {},
   "outputs": [
    {
     "data": {
      "text/plain": [
       "{'A1': 'Cat', 'A2': 'Dog', 'A3': 'Mouse', 'A4': 'Goat'}"
      ]
     },
     "execution_count": 37,
     "metadata": {},
     "output_type": "execute_result"
    }
   ],
   "source": [
    "# Adding values into dict\n",
    "dict['A4']= \"Goat\"\n",
    "dict"
   ]
  },
  {
   "cell_type": "code",
   "execution_count": 38,
   "id": "805cf625",
   "metadata": {},
   "outputs": [
    {
     "name": "stdout",
     "output_type": "stream",
     "text": [
      "{'Sales_Department': 'Joan', 'Finance_Department': 'Gregory', 'HR_Department': 'Smith'}\n"
     ]
    }
   ],
   "source": [
    "# Another way for dictionary\n",
    "Team = {}\n",
    "Team[\"Sales_Department\"] = \"Joan\"\n",
    "Team[\"Finance_Department\"] = \"Gregory\"\n",
    "Team[\"HR_Department\"] = \"Smith\"\n",
    "print(Team)"
   ]
  },
  {
   "cell_type": "code",
   "execution_count": 39,
   "id": "a87b77de",
   "metadata": {},
   "outputs": [
    {
     "name": "stdout",
     "output_type": "stream",
     "text": [
      "Joan\n"
     ]
    }
   ],
   "source": [
    "print(Team[\"Sales_Department\"])"
   ]
  },
  {
   "cell_type": "code",
   "execution_count": 40,
   "id": "ef98e2d8",
   "metadata": {},
   "outputs": [
    {
     "name": "stdout",
     "output_type": "stream",
     "text": [
      "None\n"
     ]
    }
   ],
   "source": [
    "#Using get function can return 'none' if the value is not in the dictionary\n",
    "print(Team.get(\"Logistics_Department\"))"
   ]
  },
  {
   "cell_type": "code",
   "execution_count": 41,
   "id": "f938d26f",
   "metadata": {
    "scrolled": false
   },
   "outputs": [
    {
     "name": "stdout",
     "output_type": "stream",
     "text": [
      "0 2 4 6 8 10 12 14 16 18 20 "
     ]
    }
   ],
   "source": [
    "# Iteration is used for computing codes repeatedly\n",
    "# end = \" \" manages the space between output values on a single line and limits to 20\n",
    "even_numbers =(0,2,4,6,8,10,12,14,16,18,20)\n",
    "for n in even_numbers:\n",
    "    print(n, end = \" \")"
   ]
  },
  {
   "cell_type": "code",
   "execution_count": 42,
   "id": "3f654774",
   "metadata": {},
   "outputs": [
    {
     "name": "stdout",
     "output_type": "stream",
     "text": [
      "0 2 4 6 8 10 12 14 16 18 20 "
     ]
    }
   ],
   "source": [
    "# Another iteration example for even numbers\n",
    "# Ensure you write \"x = x +2\" and \"end = \" so your computer will not crash as a result of infinite loop (repeated iteration without end)\n",
    "x = 0\n",
    "while x<=20:\n",
    "    print (x, end = \" \")\n",
    "    x= x+2\n",
    "#This example is an incrementing loop"
   ]
  },
  {
   "cell_type": "code",
   "execution_count": 43,
   "id": "b5ab035c",
   "metadata": {},
   "outputs": [
    {
     "data": {
      "text/plain": [
       "[0, 1, 2, 3, 4, 5, 6, 7, 8, 9]"
      ]
     },
     "execution_count": 43,
     "metadata": {},
     "output_type": "execute_result"
    }
   ],
   "source": [
    "# Using range function to create lists\n",
    "#range(start,stop,step)\n",
    "list(range(0,10,1))"
   ]
  },
  {
   "cell_type": "code",
   "execution_count": 44,
   "id": "6f84f2fb",
   "metadata": {},
   "outputs": [
    {
     "data": {
      "text/plain": [
       "2.0"
      ]
     },
     "execution_count": 44,
     "metadata": {},
     "output_type": "execute_result"
    }
   ],
   "source": [
    "# How to import the 'Math' module from Python standard library\n",
    "import math\n",
    "math.sqrt(4)"
   ]
  },
  {
   "cell_type": "code",
   "execution_count": 45,
   "id": "cfb79851",
   "metadata": {},
   "outputs": [
    {
     "data": {
      "text/plain": [
       "6.0"
      ]
     },
     "execution_count": 45,
     "metadata": {},
     "output_type": "execute_result"
    }
   ],
   "source": [
    "# Alternatively\n",
    "from math import sqrt as s\n",
    "s(36)"
   ]
  },
  {
   "cell_type": "code",
   "execution_count": 46,
   "id": "d0e4e13e",
   "metadata": {},
   "outputs": [
    {
     "data": {
      "text/plain": [
       "11.0"
      ]
     },
     "execution_count": 46,
     "metadata": {},
     "output_type": "execute_result"
    }
   ],
   "source": [
    "3 + s(64)"
   ]
  },
  {
   "cell_type": "code",
   "execution_count": 47,
   "id": "8cf3cf53",
   "metadata": {},
   "outputs": [
    {
     "name": "stdout",
     "output_type": "stream",
     "text": [
      "Help on built-in module math:\n",
      "\n",
      "NAME\n",
      "    math\n",
      "\n",
      "DESCRIPTION\n",
      "    This module provides access to the mathematical functions\n",
      "    defined by the C standard.\n",
      "\n",
      "FUNCTIONS\n",
      "    acos(x, /)\n",
      "        Return the arc cosine (measured in radians) of x.\n",
      "        \n",
      "        The result is between 0 and pi.\n",
      "    \n",
      "    acosh(x, /)\n",
      "        Return the inverse hyperbolic cosine of x.\n",
      "    \n",
      "    asin(x, /)\n",
      "        Return the arc sine (measured in radians) of x.\n",
      "        \n",
      "        The result is between -pi/2 and pi/2.\n",
      "    \n",
      "    asinh(x, /)\n",
      "        Return the inverse hyperbolic sine of x.\n",
      "    \n",
      "    atan(x, /)\n",
      "        Return the arc tangent (measured in radians) of x.\n",
      "        \n",
      "        The result is between -pi/2 and pi/2.\n",
      "    \n",
      "    atan2(y, x, /)\n",
      "        Return the arc tangent (measured in radians) of y/x.\n",
      "        \n",
      "        Unlike atan(y/x), the signs of both x and y are considered.\n",
      "    \n",
      "    atanh(x, /)\n",
      "        Return the inverse hyperbolic tangent of x.\n",
      "    \n",
      "    ceil(x, /)\n",
      "        Return the ceiling of x as an Integral.\n",
      "        \n",
      "        This is the smallest integer >= x.\n",
      "    \n",
      "    comb(n, k, /)\n",
      "        Number of ways to choose k items from n items without repetition and without order.\n",
      "        \n",
      "        Evaluates to n! / (k! * (n - k)!) when k <= n and evaluates\n",
      "        to zero when k > n.\n",
      "        \n",
      "        Also called the binomial coefficient because it is equivalent\n",
      "        to the coefficient of k-th term in polynomial expansion of the\n",
      "        expression (1 + x)**n.\n",
      "        \n",
      "        Raises TypeError if either of the arguments are not integers.\n",
      "        Raises ValueError if either of the arguments are negative.\n",
      "    \n",
      "    copysign(x, y, /)\n",
      "        Return a float with the magnitude (absolute value) of x but the sign of y.\n",
      "        \n",
      "        On platforms that support signed zeros, copysign(1.0, -0.0)\n",
      "        returns -1.0.\n",
      "    \n",
      "    cos(x, /)\n",
      "        Return the cosine of x (measured in radians).\n",
      "    \n",
      "    cosh(x, /)\n",
      "        Return the hyperbolic cosine of x.\n",
      "    \n",
      "    degrees(x, /)\n",
      "        Convert angle x from radians to degrees.\n",
      "    \n",
      "    dist(p, q, /)\n",
      "        Return the Euclidean distance between two points p and q.\n",
      "        \n",
      "        The points should be specified as sequences (or iterables) of\n",
      "        coordinates.  Both inputs must have the same dimension.\n",
      "        \n",
      "        Roughly equivalent to:\n",
      "            sqrt(sum((px - qx) ** 2.0 for px, qx in zip(p, q)))\n",
      "    \n",
      "    erf(x, /)\n",
      "        Error function at x.\n",
      "    \n",
      "    erfc(x, /)\n",
      "        Complementary error function at x.\n",
      "    \n",
      "    exp(x, /)\n",
      "        Return e raised to the power of x.\n",
      "    \n",
      "    expm1(x, /)\n",
      "        Return exp(x)-1.\n",
      "        \n",
      "        This function avoids the loss of precision involved in the direct evaluation of exp(x)-1 for small x.\n",
      "    \n",
      "    fabs(x, /)\n",
      "        Return the absolute value of the float x.\n",
      "    \n",
      "    factorial(x, /)\n",
      "        Find x!.\n",
      "        \n",
      "        Raise a ValueError if x is negative or non-integral.\n",
      "    \n",
      "    floor(x, /)\n",
      "        Return the floor of x as an Integral.\n",
      "        \n",
      "        This is the largest integer <= x.\n",
      "    \n",
      "    fmod(x, y, /)\n",
      "        Return fmod(x, y), according to platform C.\n",
      "        \n",
      "        x % y may differ.\n",
      "    \n",
      "    frexp(x, /)\n",
      "        Return the mantissa and exponent of x, as pair (m, e).\n",
      "        \n",
      "        m is a float and e is an int, such that x = m * 2.**e.\n",
      "        If x is 0, m and e are both 0.  Else 0.5 <= abs(m) < 1.0.\n",
      "    \n",
      "    fsum(seq, /)\n",
      "        Return an accurate floating point sum of values in the iterable seq.\n",
      "        \n",
      "        Assumes IEEE-754 floating point arithmetic.\n",
      "    \n",
      "    gamma(x, /)\n",
      "        Gamma function at x.\n",
      "    \n",
      "    gcd(*integers)\n",
      "        Greatest Common Divisor.\n",
      "    \n",
      "    hypot(...)\n",
      "        hypot(*coordinates) -> value\n",
      "        \n",
      "        Multidimensional Euclidean distance from the origin to a point.\n",
      "        \n",
      "        Roughly equivalent to:\n",
      "            sqrt(sum(x**2 for x in coordinates))\n",
      "        \n",
      "        For a two dimensional point (x, y), gives the hypotenuse\n",
      "        using the Pythagorean theorem:  sqrt(x*x + y*y).\n",
      "        \n",
      "        For example, the hypotenuse of a 3/4/5 right triangle is:\n",
      "        \n",
      "            >>> hypot(3.0, 4.0)\n",
      "            5.0\n",
      "    \n",
      "    isclose(a, b, *, rel_tol=1e-09, abs_tol=0.0)\n",
      "        Determine whether two floating point numbers are close in value.\n",
      "        \n",
      "          rel_tol\n",
      "            maximum difference for being considered \"close\", relative to the\n",
      "            magnitude of the input values\n",
      "          abs_tol\n",
      "            maximum difference for being considered \"close\", regardless of the\n",
      "            magnitude of the input values\n",
      "        \n",
      "        Return True if a is close in value to b, and False otherwise.\n",
      "        \n",
      "        For the values to be considered close, the difference between them\n",
      "        must be smaller than at least one of the tolerances.\n",
      "        \n",
      "        -inf, inf and NaN behave similarly to the IEEE 754 Standard.  That\n",
      "        is, NaN is not close to anything, even itself.  inf and -inf are\n",
      "        only close to themselves.\n",
      "    \n",
      "    isfinite(x, /)\n",
      "        Return True if x is neither an infinity nor a NaN, and False otherwise.\n",
      "    \n",
      "    isinf(x, /)\n",
      "        Return True if x is a positive or negative infinity, and False otherwise.\n",
      "    \n",
      "    isnan(x, /)\n",
      "        Return True if x is a NaN (not a number), and False otherwise.\n",
      "    \n",
      "    isqrt(n, /)\n",
      "        Return the integer part of the square root of the input.\n",
      "    \n",
      "    lcm(*integers)\n",
      "        Least Common Multiple.\n",
      "    \n",
      "    ldexp(x, i, /)\n",
      "        Return x * (2**i).\n",
      "        \n",
      "        This is essentially the inverse of frexp().\n",
      "    \n",
      "    lgamma(x, /)\n",
      "        Natural logarithm of absolute value of Gamma function at x.\n",
      "    \n",
      "    log(...)\n",
      "        log(x, [base=math.e])\n",
      "        Return the logarithm of x to the given base.\n",
      "        \n",
      "        If the base not specified, returns the natural logarithm (base e) of x.\n",
      "    \n",
      "    log10(x, /)\n",
      "        Return the base 10 logarithm of x.\n",
      "    \n",
      "    log1p(x, /)\n",
      "        Return the natural logarithm of 1+x (base e).\n",
      "        \n",
      "        The result is computed in a way which is accurate for x near zero.\n",
      "    \n",
      "    log2(x, /)\n",
      "        Return the base 2 logarithm of x.\n",
      "    \n",
      "    modf(x, /)\n",
      "        Return the fractional and integer parts of x.\n",
      "        \n",
      "        Both results carry the sign of x and are floats.\n",
      "    \n",
      "    nextafter(x, y, /)\n",
      "        Return the next floating-point value after x towards y.\n",
      "    \n",
      "    perm(n, k=None, /)\n",
      "        Number of ways to choose k items from n items without repetition and with order.\n",
      "        \n",
      "        Evaluates to n! / (n - k)! when k <= n and evaluates\n",
      "        to zero when k > n.\n",
      "        \n",
      "        If k is not specified or is None, then k defaults to n\n",
      "        and the function returns n!.\n",
      "        \n",
      "        Raises TypeError if either of the arguments are not integers.\n",
      "        Raises ValueError if either of the arguments are negative.\n",
      "    \n",
      "    pow(x, y, /)\n",
      "        Return x**y (x to the power of y).\n",
      "    \n",
      "    prod(iterable, /, *, start=1)\n",
      "        Calculate the product of all the elements in the input iterable.\n",
      "        \n",
      "        The default start value for the product is 1.\n",
      "        \n",
      "        When the iterable is empty, return the start value.  This function is\n",
      "        intended specifically for use with numeric values and may reject\n",
      "        non-numeric types.\n",
      "    \n",
      "    radians(x, /)\n",
      "        Convert angle x from degrees to radians.\n",
      "    \n",
      "    remainder(x, y, /)\n",
      "        Difference between x and the closest integer multiple of y.\n",
      "        \n",
      "        Return x - n*y where n*y is the closest integer multiple of y.\n",
      "        In the case where x is exactly halfway between two multiples of\n",
      "        y, the nearest even value of n is used. The result is always exact.\n",
      "    \n",
      "    sin(x, /)\n",
      "        Return the sine of x (measured in radians).\n",
      "    \n",
      "    sinh(x, /)\n",
      "        Return the hyperbolic sine of x.\n",
      "    \n",
      "    sqrt(x, /)\n",
      "        Return the square root of x.\n",
      "    \n",
      "    tan(x, /)\n",
      "        Return the tangent of x (measured in radians).\n",
      "    \n",
      "    tanh(x, /)\n",
      "        Return the hyperbolic tangent of x.\n",
      "    \n",
      "    trunc(x, /)\n",
      "        Truncates the Real x to the nearest Integral toward 0.\n",
      "        \n",
      "        Uses the __trunc__ magic method.\n",
      "    \n",
      "    ulp(x, /)\n",
      "        Return the value of the least significant bit of the float x.\n",
      "\n",
      "DATA\n",
      "    e = 2.718281828459045\n",
      "    inf = inf\n",
      "    nan = nan\n",
      "    pi = 3.141592653589793\n",
      "    tau = 6.283185307179586\n",
      "\n",
      "FILE\n",
      "    (built-in)\n",
      "\n",
      "\n"
     ]
    }
   ],
   "source": [
    "# To know everything in math module\n",
    "help(math)"
   ]
  },
  {
   "cell_type": "code",
   "execution_count": 48,
   "id": "30e64460",
   "metadata": {},
   "outputs": [
    {
     "data": {
      "text/plain": [
       "True"
      ]
     },
     "execution_count": 48,
     "metadata": {},
     "output_type": "execute_result"
    }
   ],
   "source": [
    "2 < 3 and 2 > 1"
   ]
  }
 ],
 "metadata": {
  "kernelspec": {
   "display_name": "Python 3 (ipykernel)",
   "language": "python",
   "name": "python3"
  },
  "language_info": {
   "codemirror_mode": {
    "name": "ipython",
    "version": 3
   },
   "file_extension": ".py",
   "mimetype": "text/x-python",
   "name": "python",
   "nbconvert_exporter": "python",
   "pygments_lexer": "ipython3",
   "version": "3.9.13"
  }
 },
 "nbformat": 4,
 "nbformat_minor": 5
}
