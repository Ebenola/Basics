{
 "cells": [
  {
   "cell_type": "code",
   "execution_count": 1,
   "id": "8e22a52e",
   "metadata": {},
   "outputs": [],
   "source": [
    "# Importing numpy\n",
    "import numpy as np"
   ]
  },
  {
   "cell_type": "code",
   "execution_count": 2,
   "id": "31813b21",
   "metadata": {},
   "outputs": [
    {
     "data": {
      "text/plain": [
       "array([2, 7, 9])"
      ]
     },
     "execution_count": 2,
     "metadata": {},
     "output_type": "execute_result"
    }
   ],
   "source": [
    "# N-D array is N-dimensional array\n",
    "# Creating 1D array\n",
    "array_a = np.array([2,7,9])\n",
    "array_a"
   ]
  },
  {
   "cell_type": "code",
   "execution_count": 3,
   "id": "0fab348b",
   "metadata": {},
   "outputs": [
    {
     "data": {
      "text/plain": [
       "array([[ 4,  7,  9],\n",
       "       [11,  8,  7]])"
      ]
     },
     "execution_count": 3,
     "metadata": {},
     "output_type": "execute_result"
    }
   ],
   "source": [
    "# 0D array is a scalar, 1D array is a vector, and 2D array is a matrix\n",
    "array_b = np.array([[4,7,9],[11,8,7]])\n",
    "array_b"
   ]
  },
  {
   "cell_type": "code",
   "execution_count": 4,
   "id": "a54623f9",
   "metadata": {},
   "outputs": [
    {
     "data": {
      "text/plain": [
       "7.666666666666667"
      ]
     },
     "execution_count": 4,
     "metadata": {},
     "output_type": "execute_result"
    }
   ],
   "source": [
    "np.mean(array_b)"
   ]
  },
  {
   "cell_type": "code",
   "execution_count": 5,
   "id": "ee1c3319",
   "metadata": {},
   "outputs": [
    {
     "data": {
      "text/plain": [
       "array([4, 7, 9])"
      ]
     },
     "execution_count": 5,
     "metadata": {},
     "output_type": "execute_result"
    }
   ],
   "source": [
    "#Indexing in numpy\n",
    "array_b[0] #returns the first row"
   ]
  },
  {
   "cell_type": "code",
   "execution_count": 6,
   "id": "ecef68b1",
   "metadata": {},
   "outputs": [
    {
     "data": {
      "text/plain": [
       "11"
      ]
     },
     "execution_count": 6,
     "metadata": {},
     "output_type": "execute_result"
    }
   ],
   "source": [
    "array_b[1,0] # returns second row first column"
   ]
  },
  {
   "cell_type": "code",
   "execution_count": 7,
   "id": "633f377d",
   "metadata": {},
   "outputs": [
    {
     "data": {
      "text/plain": [
       "array([7, 8])"
      ]
     },
     "execution_count": 7,
     "metadata": {},
     "output_type": "execute_result"
    }
   ],
   "source": [
    "array_b[:,1] #returns the second column\n",
    "# this technique is called slicing\n"
   ]
  },
  {
   "cell_type": "code",
   "execution_count": 8,
   "id": "139cc401",
   "metadata": {},
   "outputs": [
    {
     "data": {
      "text/plain": [
       "array([[ 4,  7,  9],\n",
       "       [11,  8,  7]])"
      ]
     },
     "execution_count": 8,
     "metadata": {},
     "output_type": "execute_result"
    }
   ],
   "source": [
    "# Assigning values (modifying values) in an array\n",
    "array_b[0,2] = 9\n",
    "array_b            #this changes the value of row 1 column 3 from 7 to 9"
   ]
  },
  {
   "cell_type": "code",
   "execution_count": 9,
   "id": "9c312613",
   "metadata": {},
   "outputs": [
    {
     "data": {
      "text/plain": [
       "array([[ 6,  9, 11],\n",
       "       [13, 10,  9]])"
      ]
     },
     "execution_count": 9,
     "metadata": {},
     "output_type": "execute_result"
    }
   ],
   "source": [
    "array_b + 2"
   ]
  },
  {
   "cell_type": "code",
   "execution_count": 10,
   "id": "9e08134f",
   "metadata": {},
   "outputs": [
    {
     "data": {
      "text/plain": [
       "array([1, 2, 3])"
      ]
     },
     "execution_count": 10,
     "metadata": {},
     "output_type": "execute_result"
    }
   ],
   "source": [
    "array_x = np.array([1,2,3])\n",
    "array_x\n"
   ]
  },
  {
   "cell_type": "code",
   "execution_count": 11,
   "id": "af561fdd",
   "metadata": {},
   "outputs": [
    {
     "data": {
      "text/plain": [
       "array([[1],\n",
       "       [2]])"
      ]
     },
     "execution_count": 11,
     "metadata": {},
     "output_type": "execute_result"
    }
   ],
   "source": [
    "array_y = np.array([[1],[2]])\n",
    "array_y"
   ]
  },
  {
   "cell_type": "code",
   "execution_count": 12,
   "id": "0d54156e",
   "metadata": {},
   "outputs": [
    {
     "data": {
      "text/plain": [
       "array([[1, 2, 3],\n",
       "       [4, 5, 6]])"
      ]
     },
     "execution_count": 12,
     "metadata": {},
     "output_type": "execute_result"
    }
   ],
   "source": [
    "matrix_c = np.array([[1,2,3],[4,5,6]])\n",
    "matrix_c"
   ]
  },
  {
   "cell_type": "code",
   "execution_count": 13,
   "id": "3f28b582",
   "metadata": {},
   "outputs": [
    {
     "data": {
      "text/plain": [
       "array([[2, 4, 6],\n",
       "       [5, 7, 9]])"
      ]
     },
     "execution_count": 13,
     "metadata": {},
     "output_type": "execute_result"
    }
   ],
   "source": [
    "np.add(array_x, matrix_c)"
   ]
  },
  {
   "cell_type": "code",
   "execution_count": 14,
   "id": "884b9d1d",
   "metadata": {},
   "outputs": [
    {
     "data": {
      "text/plain": [
       "array([[2., 4., 6.],\n",
       "       [5., 7., 9.]])"
      ]
     },
     "execution_count": 14,
     "metadata": {},
     "output_type": "execute_result"
    }
   ],
   "source": [
    "# To typecast into floats\n",
    "np.add(array_x, matrix_c, dtype=np.float64)"
   ]
  },
  {
   "cell_type": "code",
   "execution_count": 15,
   "id": "3e59fdd7",
   "metadata": {},
   "outputs": [
    {
     "data": {
      "text/plain": [
       "array([2.5, 3.5, 4.5])"
      ]
     },
     "execution_count": 15,
     "metadata": {},
     "output_type": "execute_result"
    }
   ],
   "source": [
    "# To determine the mean for the column, set axis =0\n",
    "np.mean(matrix_c, axis=0)"
   ]
  },
  {
   "cell_type": "code",
   "execution_count": 16,
   "id": "4bfedfb7",
   "metadata": {},
   "outputs": [
    {
     "data": {
      "text/plain": [
       "array([2., 5.])"
      ]
     },
     "execution_count": 16,
     "metadata": {},
     "output_type": "execute_result"
    }
   ],
   "source": [
    "# To determine the mean for the row, set axis =1\n",
    "np.mean(matrix_c, axis=1)"
   ]
  },
  {
   "cell_type": "code",
   "execution_count": 17,
   "id": "e0e479ed",
   "metadata": {},
   "outputs": [],
   "source": [
    "# Slicing creates new array by taking chunks of values out of the existing one"
   ]
  },
  {
   "cell_type": "code",
   "execution_count": 18,
   "id": "df8347ee",
   "metadata": {},
   "outputs": [
    {
     "data": {
      "text/plain": [
       "array([[3, 4, 7],\n",
       "       [8, 1, 3]])"
      ]
     },
     "execution_count": 18,
     "metadata": {},
     "output_type": "execute_result"
    }
   ],
   "source": [
    "matrix_k = np.array([[3,4,7],[8,1,3]])\n",
    "matrix_k"
   ]
  },
  {
   "cell_type": "code",
   "execution_count": 19,
   "id": "0714360a",
   "metadata": {},
   "outputs": [
    {
     "data": {
      "text/plain": [
       "array([], shape=(0, 3), dtype=int32)"
      ]
     },
     "execution_count": 19,
     "metadata": {},
     "output_type": "execute_result"
    }
   ],
   "source": [
    "#Basic Slicing\n",
    "matrix_k[0:0] # 0-Dimension "
   ]
  },
  {
   "cell_type": "code",
   "execution_count": 20,
   "id": "55612736",
   "metadata": {},
   "outputs": [
    {
     "data": {
      "text/plain": [
       "array([[3, 4, 7]])"
      ]
     },
     "execution_count": 20,
     "metadata": {},
     "output_type": "execute_result"
    }
   ],
   "source": [
    "# First column first row\n",
    "matrix_k[0:1]"
   ]
  },
  {
   "cell_type": "code",
   "execution_count": 21,
   "id": "30093029",
   "metadata": {},
   "outputs": [
    {
     "data": {
      "text/plain": [
       "array([[ 3,  5,  7,  9, 10],\n",
       "       [ 5,  7,  3,  7,  5],\n",
       "       [ 5,  7,  6,  8, 11]])"
      ]
     },
     "execution_count": 21,
     "metadata": {},
     "output_type": "execute_result"
    }
   ],
   "source": [
    "# Step-wise slicing\n",
    "# Creating a 5 X 3 matrix for this example\n",
    "matrix_x = np.array([[3,5,7,9,10],[5,7,3,7,5],[5,7,6,8,11]])\n",
    "matrix_x"
   ]
  },
  {
   "cell_type": "code",
   "execution_count": 22,
   "id": "fc2db6df",
   "metadata": {},
   "outputs": [
    {
     "data": {
      "text/plain": [
       "array([[3, 5],\n",
       "       [5, 7]])"
      ]
     },
     "execution_count": 22,
     "metadata": {},
     "output_type": "execute_result"
    }
   ],
   "source": [
    "# The first part in the square bracket controls the row while the second part controls the column\n",
    "matrix_x[:2,:2]"
   ]
  },
  {
   "cell_type": "code",
   "execution_count": 23,
   "id": "e213de57",
   "metadata": {},
   "outputs": [
    {
     "data": {
      "text/plain": [
       "array([3, 5, 5])"
      ]
     },
     "execution_count": 23,
     "metadata": {},
     "output_type": "execute_result"
    }
   ],
   "source": [
    "# Conditional slicing\n",
    "matrix_x[:,0] #this takes all the rows in the first column"
   ]
  },
  {
   "cell_type": "code",
   "execution_count": 24,
   "id": "a9fc3f8e",
   "metadata": {},
   "outputs": [
    {
     "data": {
      "text/plain": [
       "array([False,  True,  True])"
      ]
     },
     "execution_count": 24,
     "metadata": {},
     "output_type": "execute_result"
    }
   ],
   "source": [
    "matrix_x[:,0] > 4"
   ]
  },
  {
   "cell_type": "code",
   "execution_count": 25,
   "id": "bf16de7e",
   "metadata": {},
   "outputs": [
    {
     "data": {
      "text/plain": [
       "array(3)"
      ]
     },
     "execution_count": 25,
     "metadata": {},
     "output_type": "execute_result"
    }
   ],
   "source": [
    "b = np.array(3)\n",
    "b"
   ]
  },
  {
   "cell_type": "code",
   "execution_count": 26,
   "id": "aed9457a",
   "metadata": {},
   "outputs": [
    {
     "data": {
      "text/plain": [
       "array([[ 3, 10,  5],\n",
       "       [ 1, 20,  4]])"
      ]
     },
     "execution_count": 26,
     "metadata": {},
     "output_type": "execute_result"
    }
   ],
   "source": [
    "p = np.array([[3,10,5],[1,20,4]])\n",
    "p"
   ]
  },
  {
   "cell_type": "code",
   "execution_count": 27,
   "id": "780e5c32",
   "metadata": {},
   "outputs": [],
   "source": [
    "q = np.array([1,2,3])"
   ]
  },
  {
   "cell_type": "code",
   "execution_count": 28,
   "id": "8f7fe469",
   "metadata": {},
   "outputs": [
    {
     "data": {
      "text/plain": [
       "array([[2, 3, 4],\n",
       "       [3, 4, 5],\n",
       "       [4, 5, 6]])"
      ]
     },
     "execution_count": 28,
     "metadata": {},
     "output_type": "execute_result"
    }
   ],
   "source": [
    "np.add(q,q.reshape(3,1))"
   ]
  },
  {
   "cell_type": "code",
   "execution_count": 29,
   "id": "e4505ffb",
   "metadata": {},
   "outputs": [
    {
     "data": {
      "text/plain": [
       "array([[ 3, 10],\n",
       "       [ 5,  1],\n",
       "       [20,  4]])"
      ]
     },
     "execution_count": 29,
     "metadata": {},
     "output_type": "execute_result"
    }
   ],
   "source": [
    "p.reshape(3,2)"
   ]
  },
  {
   "cell_type": "code",
   "execution_count": 30,
   "id": "b8c4d747",
   "metadata": {},
   "outputs": [
    {
     "data": {
      "text/plain": [
       "array([[1, 2],\n",
       "       [3, 4],\n",
       "       [5, 6]])"
      ]
     },
     "execution_count": 30,
     "metadata": {},
     "output_type": "execute_result"
    }
   ],
   "source": [
    "r = np.array([[1,2],[3,4],[5,6]])\n",
    "r"
   ]
  },
  {
   "cell_type": "code",
   "execution_count": 31,
   "id": "03c9b12a",
   "metadata": {},
   "outputs": [
    {
     "data": {
      "text/plain": [
       "[[1, 2], [3, 4], [5, 6]]"
      ]
     },
     "execution_count": 31,
     "metadata": {},
     "output_type": "execute_result"
    }
   ],
   "source": [
    "e =[[1,2],[3,4],[5,6]]\n",
    "e"
   ]
  },
  {
   "cell_type": "code",
   "execution_count": 32,
   "id": "72a8230b",
   "metadata": {},
   "outputs": [
    {
     "data": {
      "text/plain": [
       "array([4, 6])"
      ]
     },
     "execution_count": 32,
     "metadata": {},
     "output_type": "execute_result"
    }
   ],
   "source": [
    "r[0,:] + r[1,:]"
   ]
  },
  {
   "cell_type": "code",
   "execution_count": 33,
   "id": "e55cfb79",
   "metadata": {},
   "outputs": [
    {
     "data": {
      "text/plain": [
       "[1, 2, 3, 4, 5, 6]"
      ]
     },
     "execution_count": 33,
     "metadata": {},
     "output_type": "execute_result"
    }
   ],
   "source": [
    "e[0]+e[1]+e[2]"
   ]
  },
  {
   "cell_type": "code",
   "execution_count": 34,
   "id": "7e365548",
   "metadata": {},
   "outputs": [
    {
     "data": {
      "text/plain": [
       "array([[1, 2, 3],\n",
       "       [4, 5, 6]])"
      ]
     },
     "execution_count": 34,
     "metadata": {},
     "output_type": "execute_result"
    }
   ],
   "source": [
    "s = np.array([[1,2,3],[4,5,6]])\n",
    "s"
   ]
  },
  {
   "cell_type": "code",
   "execution_count": 35,
   "id": "940e0ada",
   "metadata": {},
   "outputs": [
    {
     "data": {
      "text/plain": [
       "array([4, 5, 6])"
      ]
     },
     "execution_count": 35,
     "metadata": {},
     "output_type": "execute_result"
    }
   ],
   "source": [
    "s[-1]"
   ]
  },
  {
   "cell_type": "code",
   "execution_count": 36,
   "id": "76067907",
   "metadata": {},
   "outputs": [
    {
     "data": {
      "text/plain": [
       "array([4, 5, 6])"
      ]
     },
     "execution_count": 36,
     "metadata": {},
     "output_type": "execute_result"
    }
   ],
   "source": [
    "s[1]"
   ]
  },
  {
   "cell_type": "code",
   "execution_count": 37,
   "id": "07f1f4a9",
   "metadata": {},
   "outputs": [
    {
     "data": {
      "text/plain": [
       "array([2, 4, 6])"
      ]
     },
     "execution_count": 37,
     "metadata": {},
     "output_type": "execute_result"
    }
   ],
   "source": [
    "s[0]+s[0,:]"
   ]
  },
  {
   "cell_type": "code",
   "execution_count": 38,
   "id": "228a80da",
   "metadata": {},
   "outputs": [
    {
     "data": {
      "text/plain": [
       "array([[0.00000000e+000, 0.00000000e+000, 0.00000000e+000],\n",
       "       [0.00000000e+000, 0.00000000e+000, 6.71929278e-321],\n",
       "       [6.23053614e-307, 7.56592337e-307, 5.33590898e-322]])"
      ]
     },
     "execution_count": 38,
     "metadata": {},
     "output_type": "execute_result"
    }
   ],
   "source": [
    "# Generating data with numpy\n",
    "#np.empty()\n",
    "#np.zero()\n",
    "#np.full()\n",
    "array_empty = np.empty(shape =(3,3))\n",
    "array_empty\n"
   ]
  },
  {
   "cell_type": "code",
   "execution_count": 39,
   "id": "df745c98",
   "metadata": {},
   "outputs": [
    {
     "data": {
      "text/plain": [
       "array([[0., 0., 0.],\n",
       "       [0., 0., 0.]])"
      ]
     },
     "execution_count": 39,
     "metadata": {},
     "output_type": "execute_result"
    }
   ],
   "source": [
    "array_zero = np.zeros(shape=(2,3))\n",
    "array_zero"
   ]
  },
  {
   "cell_type": "code",
   "execution_count": 40,
   "id": "cea37a0c",
   "metadata": {},
   "outputs": [
    {
     "data": {
      "text/plain": [
       "array([[0, 0, 0],\n",
       "       [0, 0, 0]], dtype=int8)"
      ]
     },
     "execution_count": 40,
     "metadata": {},
     "output_type": "execute_result"
    }
   ],
   "source": [
    "# Changing to interger\n",
    "array_zero = np.zeros(shape=(2,3), dtype =np.int8)\n",
    "array_zero"
   ]
  },
  {
   "cell_type": "code",
   "execution_count": 41,
   "id": "ab916cce",
   "metadata": {},
   "outputs": [
    {
     "data": {
      "text/plain": [
       "array([[1., 1., 1.],\n",
       "       [1., 1., 1.],\n",
       "       [1., 1., 1.]])"
      ]
     },
     "execution_count": 41,
     "metadata": {},
     "output_type": "execute_result"
    }
   ],
   "source": [
    "array_1 = np.ones(shape=(3,3))\n",
    "array_1"
   ]
  },
  {
   "cell_type": "code",
   "execution_count": 42,
   "id": "100a7301",
   "metadata": {},
   "outputs": [
    {
     "data": {
      "text/plain": [
       "array([[2, 2, 2],\n",
       "       [2, 2, 2]])"
      ]
     },
     "execution_count": 42,
     "metadata": {},
     "output_type": "execute_result"
    }
   ],
   "source": [
    "Array_full = np.full(shape=(2,3), fill_value=2)\n",
    "Array_full"
   ]
  },
  {
   "cell_type": "code",
   "execution_count": 43,
   "id": "d5dddfce",
   "metadata": {},
   "outputs": [
    {
     "data": {
      "text/plain": [
       "array([ 0,  1,  2,  3,  4,  5,  6,  7,  8,  9, 10, 11, 12, 13, 14, 15, 16,\n",
       "       17, 18, 19, 20, 21, 22, 23, 24, 25, 26, 27, 28, 29])"
      ]
     },
     "execution_count": 43,
     "metadata": {},
     "output_type": "execute_result"
    }
   ],
   "source": [
    "# Generating non-random number with arange\n",
    "array_rng = np.arange(30)\n",
    "array_rng"
   ]
  },
  {
   "cell_type": "code",
   "execution_count": 44,
   "id": "1c5e3d37",
   "metadata": {},
   "outputs": [
    {
     "data": {
      "text/plain": [
       "array([ 2,  3,  4,  5,  6,  7,  8,  9, 10, 11, 12, 13, 14, 15, 16, 17, 18,\n",
       "       19, 20, 21, 22, 23, 24, 25, 26, 27, 28, 29, 30, 31, 32, 33, 34, 35,\n",
       "       36, 37, 38, 39, 40, 41, 42, 43, 44])"
      ]
     },
     "execution_count": 44,
     "metadata": {},
     "output_type": "execute_result"
    }
   ],
   "source": [
    "array_k = np.arange(start = 2, stop = 45)\n",
    "array_k"
   ]
  },
  {
   "cell_type": "code",
   "execution_count": 45,
   "id": "f89835bc",
   "metadata": {},
   "outputs": [],
   "source": [
    "# Generating random numbers\n",
    "from numpy.random import Generator as gen\n",
    "from numpy.random import PCG64 as pcg    #PCG means permutation congruencial generator that can produce up to 64bits values"
   ]
  },
  {
   "cell_type": "code",
   "execution_count": 46,
   "id": "3a64e007",
   "metadata": {},
   "outputs": [
    {
     "data": {
      "text/plain": [
       "array([[ 1.46439533,  0.71076897],\n",
       "       [-0.28202088,  0.12573373],\n",
       "       [-1.1559245 , -0.35153777],\n",
       "       [-0.3205413 ,  2.34579959],\n",
       "       [ 1.45793198,  1.17650533]])"
      ]
     },
     "execution_count": 46,
     "metadata": {},
     "output_type": "execute_result"
    }
   ],
   "source": [
    "array_RG = gen(pcg())\n",
    "array_RG.normal(size =(5,2))\n"
   ]
  },
  {
   "cell_type": "code",
   "execution_count": 48,
   "id": "ea31295b",
   "metadata": {},
   "outputs": [
    {
     "data": {
      "text/plain": [
       "array([[-0.13640899,  0.09414431],\n",
       "       [-0.06300442,  1.05391641],\n",
       "       [-0.6866818 , -0.50922173],\n",
       "       [-0.7999526 ,  0.73041825],\n",
       "       [ 0.08825439, -2.1177576 ]])"
      ]
     },
     "execution_count": 48,
     "metadata": {},
     "output_type": "execute_result"
    }
   ],
   "source": [
    "# Specify seed to obtain the same generated values every time the code is run\n",
    "array_RG = gen(pcg(seed =365))\n",
    "array_RG.normal(size =(5,2))"
   ]
  },
  {
   "cell_type": "code",
   "execution_count": 49,
   "id": "2e091f75",
   "metadata": {},
   "outputs": [
    {
     "data": {
      "text/plain": [
       "array([[7, 6],\n",
       "       [3, 8],\n",
       "       [2, 3],\n",
       "       [9, 9],\n",
       "       [8, 8]], dtype=int64)"
      ]
     },
     "execution_count": 49,
     "metadata": {},
     "output_type": "execute_result"
    }
   ],
   "source": [
    "# To generate random integers\n",
    "array_RG = gen(pcg())\n",
    "array_RG.integers(10, size =(5,2))"
   ]
  },
  {
   "cell_type": "code",
   "execution_count": 50,
   "id": "16a0de11",
   "metadata": {},
   "outputs": [
    {
     "data": {
      "text/plain": [
       "array([[49, 41],\n",
       "       [30, 21],\n",
       "       [42, 11],\n",
       "       [35, 23],\n",
       "       [23, 49]], dtype=int64)"
      ]
     },
     "execution_count": 50,
     "metadata": {},
     "output_type": "execute_result"
    }
   ],
   "source": [
    "# To Specify the range of random numbers e.g. between 10 and 50\n",
    "array_RG = gen(pcg())\n",
    "array_RG.integers(low = 10, high = 50, size =(5,2))\n"
   ]
  },
  {
   "cell_type": "code",
   "execution_count": 51,
   "id": "27e8d005",
   "metadata": {},
   "outputs": [
    {
     "data": {
      "text/plain": [
       "array([[11, 12],\n",
       "       [12, 14],\n",
       "       [13,  9],\n",
       "       [10, 11],\n",
       "       [11,  8]], dtype=int64)"
      ]
     },
     "execution_count": 51,
     "metadata": {},
     "output_type": "execute_result"
    }
   ],
   "source": [
    "# Probability distribution. E.g. Generating random values for Poisson distribution where lambda is 10\n",
    "array_RG = gen(pcg(seed = 365))\n",
    "array_RG.poisson(lam=10, size =(5,2))"
   ]
  },
  {
   "cell_type": "code",
   "execution_count": 52,
   "id": "2184168b",
   "metadata": {},
   "outputs": [
    {
     "data": {
      "text/plain": [
       "array([ 3. ,  5.5,  8. , 10.5, 13. , 15.5, 18. , 20.5, 23. ])"
      ]
     },
     "execution_count": 52,
     "metadata": {},
     "output_type": "execute_result"
    }
   ],
   "source": [
    "F = np.arange(start=3, stop=25, step = 2.5, dtype=float)\n",
    "F"
   ]
  },
  {
   "cell_type": "code",
   "execution_count": 53,
   "id": "d3ff7b49",
   "metadata": {},
   "outputs": [
    {
     "data": {
      "text/plain": [
       "array([[-1, -1, -1],\n",
       "       [-1, -1, -1],\n",
       "       [-1, -1, -1]])"
      ]
     },
     "execution_count": 53,
     "metadata": {},
     "output_type": "execute_result"
    }
   ],
   "source": [
    "A = np.array([[12,45,6],[55,34,-4],[-6,-12,90]])\n",
    "-np.ones_like(A)"
   ]
  },
  {
   "cell_type": "code",
   "execution_count": 54,
   "id": "ee365aea",
   "metadata": {},
   "outputs": [
    {
     "data": {
      "text/plain": [
       "array([[31, 24, 18],\n",
       "       [22, 28, 18],\n",
       "       [33, 25, 20]], dtype=int64)"
      ]
     },
     "execution_count": 54,
     "metadata": {},
     "output_type": "execute_result"
    }
   ],
   "source": [
    "#Man tosses biased coin 80 times with 0.3 probability of hitting heads. What is the number of heads obtained this 80 times?\n",
    "array = gen(pcg(seed = 64))\n",
    "array.binomial(n=80, p=0.3, size=(3,3))"
   ]
  },
  {
   "cell_type": "code",
   "execution_count": 55,
   "id": "95385d3a",
   "metadata": {},
   "outputs": [
    {
     "data": {
      "text/plain": [
       "23.88888888888889"
      ]
     },
     "execution_count": 55,
     "metadata": {},
     "output_type": "execute_result"
    }
   ],
   "source": [
    "#Number of heads is the mean of the binomial array\n",
    "np.mean(array.binomial(n=80, p=0.3, size=(3,3)))"
   ]
  },
  {
   "cell_type": "code",
   "execution_count": 56,
   "id": "fcdb482d",
   "metadata": {},
   "outputs": [],
   "source": [
    "array = gen(pcg(seed = 365))\n",
    "column_1 = array.normal(loc=3, scale =2, size=(500))\n",
    "column_2 = array.exponential(scale=5, size=(500))\n",
    "column_3 = array.logistic(loc=10, scale=4, size=(500))"
   ]
  },
  {
   "cell_type": "code",
   "execution_count": 57,
   "id": "03aba109",
   "metadata": {},
   "outputs": [
    {
     "data": {
      "text/plain": [
       "array([[ 2.72718202,  3.18828862,  2.87399116, ...,  2.67325603,\n",
       "         0.41719471,  1.89841075],\n",
       "       [ 8.05903126,  0.88603649,  3.19304012, ...,  4.6118028 ,\n",
       "        10.73670058,  0.56819523],\n",
       "       [ 8.91110986, 15.78560408, 20.59490789, ...,  7.8726113 ,\n",
       "        12.03441616,  2.71303282]])"
      ]
     },
     "execution_count": 57,
     "metadata": {},
     "output_type": "execute_result"
    }
   ],
   "source": [
    "table = np.array([column_1,column_2,column_3])\n",
    "table"
   ]
  },
  {
   "cell_type": "code",
   "execution_count": 58,
   "id": "270b9620",
   "metadata": {},
   "outputs": [
    {
     "data": {
      "text/plain": [
       "35.04153699695336"
      ]
     },
     "execution_count": 58,
     "metadata": {},
     "output_type": "execute_result"
    }
   ],
   "source": [
    "# To get the maximum value of the table\n",
    "np.max(table)"
   ]
  },
  {
   "cell_type": "code",
   "execution_count": 60,
   "id": "0c760598",
   "metadata": {},
   "outputs": [
    {
     "data": {
      "text/plain": [
       "array([[ 2000.,    40.,   365.,  3121.,  4241., 13621.],\n",
       "       [ 2000.,    40.,   365.,  3061.,  4171., 15041.],\n",
       "       [ 1000.,    40.,   365.,  2160.,  3280., 15340.],\n",
       "       ...,\n",
       "       [ 2000.,    40.,   365.,  4201.,  5001., 16600.],\n",
       "       [ 1000.,    40.,   365.,  2080.,  3320., 15600.],\n",
       "       [ 2000.,    40.,   365.,  4601.,  4601., 16600.]])"
      ]
     },
     "execution_count": 60,
     "metadata": {},
     "output_type": "execute_result"
    }
   ],
   "source": [
    "#Importing data (textfile) into numpy\n",
    "# Option 1: Use Loadtxt; this is faster but cannot be used for files with mising text\n",
    "# Use double back slash in the directory address of the file\n",
    "Lending_Comp_Num_Data_1= np.loadtxt(\"Lending-Company-Numeric-Data.csv\", delimiter=',')\n",
    "Lending_Comp_Num_Data_1"
   ]
  },
  {
   "cell_type": "code",
   "execution_count": 61,
   "id": "7137a095",
   "metadata": {},
   "outputs": [
    {
     "data": {
      "text/plain": [
       "array([[ 2000.,    40.,   365.,  3121.,  4241., 13621.],\n",
       "       [ 2000.,    40.,   365.,  3061.,  4171., 15041.],\n",
       "       [ 1000.,    40.,   365.,  2160.,  3280., 15340.],\n",
       "       ...,\n",
       "       [ 2000.,    40.,   365.,  4201.,  5001., 16600.],\n",
       "       [ 1000.,    40.,   365.,  2080.,  3320., 15600.],\n",
       "       [ 2000.,    40.,   365.,  4601.,  4601., 16600.]])"
      ]
     },
     "execution_count": 61,
     "metadata": {},
     "output_type": "execute_result"
    }
   ],
   "source": [
    "# Option 2: Generate from text\n",
    "Lending_Comp_Num_Data_2 = np.genfromtxt(\"Lending-Company-Numeric-Data.csv\", delimiter=',')\n",
    "Lending_Comp_Num_Data_2"
   ]
  },
  {
   "cell_type": "code",
   "execution_count": 62,
   "id": "3b867600",
   "metadata": {},
   "outputs": [
    {
     "data": {
      "text/plain": [
       "array([[ 2000.,    40.,   365.,  3121.,  4241., 13621.],\n",
       "       [ 2000.,    40.,   365.,  3061.,  4171., 15041.],\n",
       "       [ 1000.,    40.,   365.,  2160.,  3280., 15340.],\n",
       "       ...,\n",
       "       [   nan,    40.,   365.,  4201.,  5001., 16600.],\n",
       "       [ 1000.,    40.,   365.,  2080.,  3320., 15600.],\n",
       "       [ 2000.,    40.,   365.,  4601.,  4601., 16600.]])"
      ]
     },
     "execution_count": 62,
     "metadata": {},
     "output_type": "execute_result"
    }
   ],
   "source": [
    "# Partial data cleaning using numpy\n",
    "# Use ; as delimiter\n",
    "Lending_Comp_NAN = np.genfromtxt(\"Lending-Company-Numeric-Data-NAN.csv\", delimiter =';')\n",
    "Lending_Comp_NAN"
   ]
  },
  {
   "cell_type": "code",
   "execution_count": 63,
   "id": "01f25c47",
   "metadata": {},
   "outputs": [
    {
     "data": {
      "text/plain": [
       "array([[ 1000.,    40.,   365.,  2160.,  3280., 15340.],\n",
       "       [ 2000.,    40.,   365.,  3041.,  4241., 15321.],\n",
       "       [ 2000.,    50.,   365.,  3470.,  4820., 13720.],\n",
       "       ...,\n",
       "       [   nan,    40.,   365.,  4201.,  5001., 16600.],\n",
       "       [ 1000.,    40.,   365.,  2080.,  3320., 15600.],\n",
       "       [ 2000.,    40.,   365.,  4601.,  4601., 16600.]])"
      ]
     },
     "execution_count": 63,
     "metadata": {},
     "output_type": "execute_result"
    }
   ],
   "source": [
    "# Use skip_header to remove top rows based on specified number or skip_footer from last row\n",
    "Lending_Comp_NAN = np.genfromtxt(\"Lending-Company-Numeric-Data-NAN.csv\", delimiter =';',\n",
    "                                skip_header = 2)\n",
    "Lending_Comp_NAN"
   ]
  },
  {
   "cell_type": "code",
   "execution_count": 64,
   "id": "3e9c28ce",
   "metadata": {},
   "outputs": [
    {
     "data": {
      "text/plain": [
       "array([[2000.,   40.,  365.],\n",
       "       [2000.,   40.,  365.],\n",
       "       [1000.,   40.,  365.],\n",
       "       ...,\n",
       "       [  nan,   40.,  365.],\n",
       "       [1000.,   40.,  365.],\n",
       "       [2000.,   40.,  365.]])"
      ]
     },
     "execution_count": 64,
     "metadata": {},
     "output_type": "execute_result"
    }
   ],
   "source": [
    "# usecols is used to specify the number of columns of interest\n",
    "Lending_Comp_NAN = np.genfromtxt(\"Lending-Company-Numeric-Data-NAN.csv\", delimiter =';',\n",
    "                                usecols = (0,1,2))\n",
    "Lending_Comp_NAN"
   ]
  },
  {
   "cell_type": "code",
   "execution_count": 66,
   "id": "95c174af",
   "metadata": {},
   "outputs": [
    {
     "name": "stdout",
     "output_type": "stream",
     "text": [
      "[['LoanID' 'StringID' 'Product' ... 'Location' 'Region' 'TotalPrice']\n",
      " ['1' 'id_1' 'Product B' ... 'Location 2' 'Region 2' '16600.0']\n",
      " ['2' 'id_2' 'Product B' ... 'Location 3' '' '16600.0']\n",
      " ...\n",
      " ['1041' 'id_1041' 'Product B' ... 'Location 23' 'Region 4' '16600.0']\n",
      " ['1042' 'id_1042' 'Product C' ... 'Location 52' 'Region 6' '15600.0']\n",
      " ['1043' 'id_1043' 'Product B' ... 'Location 142' 'Region 6' '16600.0']]\n"
     ]
    }
   ],
   "source": [
    "# Saving csv in Python to create npy file\n",
    "Lending_Comp_Saving = np.genfromtxt(\"Lending-Company-Saving.csv\",\n",
    "                                    delimiter =',', dtype =np.str_)\n",
    "print(Lending_Comp_Saving)"
   ]
  },
  {
   "cell_type": "code",
   "execution_count": 67,
   "id": "f70bff7b",
   "metadata": {},
   "outputs": [],
   "source": [
    "np.save(\"Lending-Company-Saving\", Lending_Comp_Saving)\n",
    "# The npy file is saved in the directory of Jupyter on C: drive\n",
    "\n"
   ]
  },
  {
   "cell_type": "code",
   "execution_count": 68,
   "id": "cb307709",
   "metadata": {},
   "outputs": [
    {
     "data": {
      "text/plain": [
       "array([['LoanID', 'StringID', 'Product', ..., 'Location', 'Region',\n",
       "        'TotalPrice'],\n",
       "       ['1', 'id_1', 'Product B', ..., 'Location 2', 'Region 2',\n",
       "        '16600.0'],\n",
       "       ['2', 'id_2', 'Product B', ..., 'Location 3', '', '16600.0'],\n",
       "       ...,\n",
       "       ['1041', 'id_1041', 'Product B', ..., 'Location 23', 'Region 4',\n",
       "        '16600.0'],\n",
       "       ['1042', 'id_1042', 'Product C', ..., 'Location 52', 'Region 6',\n",
       "        '15600.0'],\n",
       "       ['1043', 'id_1043', 'Product B', ..., 'Location 142', 'Region 6',\n",
       "        '16600.0']], dtype='<U14')"
      ]
     },
     "execution_count": 68,
     "metadata": {},
     "output_type": "execute_result"
    }
   ],
   "source": [
    "# To retrieve the saved npy data\n",
    "lending_data = np.load(\"Lending-Company-Saving.npy\")\n",
    "lending_data"
   ]
  },
  {
   "cell_type": "code",
   "execution_count": 69,
   "id": "0b01036a",
   "metadata": {},
   "outputs": [],
   "source": [
    "# savez npz can save multiple arrays. It is a archive of npy. E.g. saving both Lending_Comp_Saving and lending_data\n",
    "np.savez(\"Lending-Company-Saving\", Lending_Comp_Saving, lending_data)"
   ]
  },
  {
   "cell_type": "code",
   "execution_count": 70,
   "id": "110460d6",
   "metadata": {},
   "outputs": [
    {
     "name": "stdout",
     "output_type": "stream",
     "text": [
      "<numpy.lib.npyio.NpzFile object at 0x000002467B5765B0>\n"
     ]
    }
   ],
   "source": [
    "lending_data_savez = np.load(\"Lending-Company-Saving.npz\")\n",
    "print(lending_data_savez)"
   ]
  },
  {
   "cell_type": "code",
   "execution_count": 71,
   "id": "a67a49e7",
   "metadata": {},
   "outputs": [
    {
     "name": "stdout",
     "output_type": "stream",
     "text": [
      "[['LoanID' 'StringID' 'Product' ... 'Location' 'Region' 'TotalPrice']\n",
      " ['1' 'id_1' 'Product B' ... 'Location 2' 'Region 2' '16600.0']\n",
      " ['2' 'id_2' 'Product B' ... 'Location 3' '' '16600.0']\n",
      " ...\n",
      " ['1041' 'id_1041' 'Product B' ... 'Location 23' 'Region 4' '16600.0']\n",
      " ['1042' 'id_1042' 'Product C' ... 'Location 52' 'Region 6' '15600.0']\n",
      " ['1043' 'id_1043' 'Product B' ... 'Location 142' 'Region 6' '16600.0']]\n"
     ]
    }
   ],
   "source": [
    "# The above will not bring out the data in the array unless we specify the array\n",
    "\n",
    "print(lending_data_savez[\"arr_0\"])"
   ]
  },
  {
   "cell_type": "code",
   "execution_count": 72,
   "id": "cd8aadf1",
   "metadata": {},
   "outputs": [],
   "source": [
    "# Saving in text\n",
    "np.savetxt(\"Lending-Company-Saving.txt\",\n",
    "          lending_data, fmt = '%s',\n",
    "          delimiter = ',')\n",
    "# this saves as text in the earlier diretory"
   ]
  },
  {
   "cell_type": "code",
   "execution_count": 73,
   "id": "0651311c",
   "metadata": {},
   "outputs": [
    {
     "name": "stdout",
     "output_type": "stream",
     "text": [
      "[[      nan       nan       nan ...       nan       nan       nan]\n",
      " [1.000e+00       nan       nan ...       nan       nan 1.660e+04]\n",
      " [2.000e+00       nan       nan ...       nan       nan 1.660e+04]\n",
      " ...\n",
      " [1.041e+03       nan       nan ...       nan       nan 1.660e+04]\n",
      " [1.042e+03       nan       nan ...       nan       nan 1.560e+04]\n",
      " [1.043e+03       nan       nan ...       nan       nan 1.660e+04]]\n"
     ]
    }
   ],
   "source": [
    "Lending_SaveTXT = np.genfromtxt(\"Lending-Company-Saving.txt\", delimiter = ',')\n",
    "print(Lending_SaveTXT)"
   ]
  },
  {
   "cell_type": "code",
   "execution_count": 74,
   "id": "9f2b5b54",
   "metadata": {},
   "outputs": [
    {
     "data": {
      "text/plain": [
       "array([[ 3,  5,  6,  7,  6],\n",
       "       [ 4,  2,  7,  9,  7],\n",
       "       [10,  4,  7,  6,  5]])"
      ]
     },
     "execution_count": 74,
     "metadata": {},
     "output_type": "execute_result"
    }
   ],
   "source": [
    "array_b = np.array([[3,5,6,7,6],[4,2,7,9,7],[10,4,7,6,5]])\n",
    "array_b"
   ]
  },
  {
   "cell_type": "code",
   "execution_count": 75,
   "id": "5cfeea3f",
   "metadata": {},
   "outputs": [
    {
     "data": {
      "text/plain": [
       "array([5.4, 5.8, 6.4])"
      ]
     },
     "execution_count": 75,
     "metadata": {},
     "output_type": "execute_result"
    }
   ],
   "source": [
    "#Mean: mean of specific rows and column and also be calculated using [row_no] for row, axis = 0 for each column\n",
    "# axis = 1 for each row\n",
    "np.mean(array_b, axis =1)"
   ]
  },
  {
   "cell_type": "code",
   "execution_count": 76,
   "id": "d26d916c",
   "metadata": {},
   "outputs": [
    {
     "data": {
      "text/plain": [
       "6.0"
      ]
     },
     "execution_count": 76,
     "metadata": {},
     "output_type": "execute_result"
    }
   ],
   "source": [
    "np.median(array_b)"
   ]
  },
  {
   "cell_type": "code",
   "execution_count": 77,
   "id": "81b8b872",
   "metadata": {},
   "outputs": [
    {
     "data": {
      "text/plain": [
       "2.0612833111653743"
      ]
     },
     "execution_count": 77,
     "metadata": {},
     "output_type": "execute_result"
    }
   ],
   "source": [
    "#Standard deviation\n",
    "np.std(array_b)"
   ]
  },
  {
   "cell_type": "code",
   "execution_count": 78,
   "id": "164f717d",
   "metadata": {},
   "outputs": [
    {
     "data": {
      "text/plain": [
       "array([[ 2.3,  3.1, -2.2],\n",
       "       [ 3.1,  7.7,  0.1],\n",
       "       [-2.2,  0.1,  5.3]])"
      ]
     },
     "execution_count": 78,
     "metadata": {},
     "output_type": "execute_result"
    }
   ],
   "source": [
    "#Covariance\n",
    "np.cov(array_b)"
   ]
  },
  {
   "cell_type": "code",
   "execution_count": 79,
   "id": "71787b96",
   "metadata": {},
   "outputs": [
    {
     "data": {
      "text/plain": [
       "array([[ 1.        ,  0.73663511, -0.63011647],\n",
       "       [ 0.73663511,  1.        ,  0.01565369],\n",
       "       [-0.63011647,  0.01565369,  1.        ]])"
      ]
     },
     "execution_count": 79,
     "metadata": {},
     "output_type": "execute_result"
    }
   ],
   "source": [
    "# Correlation coefficient\n",
    "np.corrcoef(array_b)"
   ]
  },
  {
   "cell_type": "code",
   "execution_count": 80,
   "id": "b784924d",
   "metadata": {},
   "outputs": [
    {
     "data": {
      "text/plain": [
       "array([ 2,  3,  4,  4,  5,  5,  6,  6,  6,  7,  7,  7,  7,  9, 10])"
      ]
     },
     "execution_count": 80,
     "metadata": {},
     "output_type": "execute_result"
    }
   ],
   "source": [
    "# Creating Histogram in numpy\n",
    "# First sort the data in the array\n",
    "np.sort(array_b, axis = None)"
   ]
  },
  {
   "cell_type": "code",
   "execution_count": 81,
   "id": "17b1b835",
   "metadata": {},
   "outputs": [
    {
     "data": {
      "text/plain": [
       "(array([1, 1, 2, 2, 0, 3, 4, 0, 1, 1], dtype=int64),\n",
       " array([ 2. ,  2.8,  3.6,  4.4,  5.2,  6. ,  6.8,  7.6,  8.4,  9.2, 10. ]))"
      ]
     },
     "execution_count": 81,
     "metadata": {},
     "output_type": "execute_result"
    }
   ],
   "source": [
    "np.histogram(array_b)"
   ]
  },
  {
   "cell_type": "code",
   "execution_count": 82,
   "id": "d4827ed1",
   "metadata": {},
   "outputs": [],
   "source": [
    "# Plotting charts\n",
    "import matplotlib.pyplot as plt"
   ]
  },
  {
   "cell_type": "code",
   "execution_count": 83,
   "id": "d54530ec",
   "metadata": {},
   "outputs": [
    {
     "data": {
      "text/plain": [
       "(array([1., 1., 2., 2., 0., 3., 4., 0., 1., 1.]),\n",
       " array([ 2. ,  2.8,  3.6,  4.4,  5.2,  6. ,  6.8,  7.6,  8.4,  9.2, 10. ]),\n",
       " <BarContainer object of 10 artists>)"
      ]
     },
     "execution_count": 83,
     "metadata": {},
     "output_type": "execute_result"
    },
    {
     "data": {
      "image/png": "[encoded data removed]",
      "text/plain": [
       "<Figure size 640x480 with 1 Axes>"
      ]
     },
     "metadata": {},
     "output_type": "display_data"
    }
   ],
   "source": [
    "plt.hist(array_b.flat, bins = np.histogram(array_b)[1])"
   ]
  },
  {
   "cell_type": "code",
   "execution_count": 84,
   "id": "34cb0882",
   "metadata": {},
   "outputs": [
    {
     "data": {
      "text/plain": [
       "(array([[0., 1., 0., 0.],\n",
       "        [0., 0., 0., 0.],\n",
       "        [1., 0., 0., 0.],\n",
       "        [0., 0., 2., 1.]]),\n",
       " array([3., 4., 5., 6., 7.]),\n",
       " array([2.  , 3.75, 5.5 , 7.25, 9.  ]))"
      ]
     },
     "execution_count": 84,
     "metadata": {},
     "output_type": "execute_result"
    }
   ],
   "source": [
    "np.histogram2d(array_b[0], array_b[1], bins = 4)"
   ]
  },
  {
   "cell_type": "code",
   "execution_count": 85,
   "id": "7bcbb756",
   "metadata": {},
   "outputs": [
    {
     "data": {
      "text/plain": [
       "array([30, 45, 67, 45, 32, 45, 56, 66, 44, 34, 67, 87, 79, 78, 87, 88, 89,\n",
       "       95])"
      ]
     },
     "execution_count": 85,
     "metadata": {},
     "output_type": "execute_result"
    }
   ],
   "source": [
    "results = np.array([30,45,67,45,32,45,56,66,44,34,67,87,79,78,87,88,89,95])\n",
    "results"
   ]
  },
  {
   "cell_type": "code",
   "execution_count": 86,
   "id": "fd5cb883",
   "metadata": {},
   "outputs": [
    {
     "data": {
      "text/plain": [
       "(array([0, 0, 0, 2, 1], dtype=int64), array([10., 16., 22., 28., 34., 40.]))"
      ]
     },
     "execution_count": 86,
     "metadata": {},
     "output_type": "execute_result"
    }
   ],
   "source": [
    "np.histogram(results, bins= 5, range=(10,40))"
   ]
  }
 ],
 "metadata": {
  "kernelspec": {
   "display_name": "Python 3 (ipykernel)",
   "language": "python",
   "name": "python3"
  },
  "language_info": {
   "codemirror_mode": {
    "name": "ipython",
    "version": 3
   },
   "file_extension": ".py",
   "mimetype": "text/x-python",
   "name": "python",
   "nbconvert_exporter": "python",
   "pygments_lexer": "ipython3",
   "version": "3.9.13"
  }
 },
 "nbformat": 4,
 "nbformat_minor": 5
}
